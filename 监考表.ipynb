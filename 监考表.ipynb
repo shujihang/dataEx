{
 "cells": [
  {
   "cell_type": "code",
   "execution_count": null,
   "id": "59708400",
   "metadata": {},
   "outputs": [],
   "source": [
    "from datascience import *\n",
    "import panda as pd\n",
    "import maplplotlib.pyplot as plt\n",
    "from collections import defaultdict\n",
    "\n",
    "pd.set_option('display.max_rows',10)\n",
    "df_row = pd.read_监考表.csv('监考表.csv','name','time','class','person')\n",
    "df_raw('course').unique.size\n",
    "df_raw.groupby('data').size()\n",
    "name = ''\n",
    "df_raw('name')\n",
    "df_raw.groupby('time').size()"
   ]
  }
 ],
 "metadata": {
  "kernelspec": {
   "display_name": "Python 3 (ipykernel)",
   "language": "python",
   "name": "python3"
  },
  "language_info": {
   "codemirror_mode": {
    "name": "ipython",
    "version": 3
   },
   "file_extension": ".py",
   "mimetype": "text/x-python",
   "name": "python",
   "nbconvert_exporter": "python",
   "pygments_lexer": "ipython3",
   "version": "3.9.13"
  }
 },
 "nbformat": 4,
 "nbformat_minor": 5
}
