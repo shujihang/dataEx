{
 "cells": [
  {
   "cell_type": "code",
   "execution_count": 1,
   "id": "aec84c5c",
   "metadata": {},
   "outputs": [
    {
     "ename": "SyntaxError",
     "evalue": "invalid character '，' (U+FF0C) (944140495.py, line 12)",
     "output_type": "error",
     "traceback": [
      "\u001b[1;36m  File \u001b[1;32m\"C:\\Users\\MWCGREVO\\AppData\\Local\\Temp\\ipykernel_19064\\944140495.py\"\u001b[1;36m, line \u001b[1;32m12\u001b[0m\n\u001b[1;33m    temp = minard.where('姓名'，are.equal_to(name)).colunm(11).item(0)\u001b[0m\n\u001b[1;37m                            ^\u001b[0m\n\u001b[1;31mSyntaxError\u001b[0m\u001b[1;31m:\u001b[0m invalid character '，' (U+FF0C)\n"
     ]
    }
   ],
   "source": [
    "from datascience import *\n",
    "minard = Table.read_table('20211108-utf-8.scv')\n",
    "minard1.show()\n",
    "\n",
    "\n",
    "import matplotlib\n",
    "import matplotlib.pyplot as plt\n",
    "#plots.style.use('fivethirtyeight')\n",
    "%matplotlib inline\n",
    "\n",
    "def extract_rank(minard,name):\n",
    "    temp = minard.where('姓名'，are.equal_to(name)).colunm(11).item(0)\n",
    "    return temp\n",
    "\n",
    "minard05 = Table.read_table('20211105-utf-8.csv')\n",
    "minard06 = Table.read_table('20211106-utf-8.csv')\n",
    "minard07 = Table.read_table('20211107-utf-8.csv')\n",
    "minard08 = Table.read_table('20211108-utf-8.csv')\n",
    "minard09 = Table.read_table('20211109-utf-8.csv')\n",
    "minard010 = Table.read_table('202111010-utf-8.csv')\n",
    "minard011 = Table.read_table('202111011-utf-8.csv')\n",
    "name1 = '黄思哲'\n",
    "name2 = '黄思哲'\n",
    "\n",
    "rank_array = make_array(extract_rank(minard05,name1),extract_rank(minard06),extract_rank(minard07),extract_rank(minard08),extract_rank(minard09),extract_rank(minard10),extract_rank(minard11))\n",
    "results = Table().with_columns('考试序号'),make_array(1,2,3,4,5,6,7),'姓名'，make_array(name1,name1)\n",
    "result.show()\n",
    "\n",
    "plt.xlable('高一下学期以来的历次考试')\n",
    "plt.ylable('年级排名')\n",
    "plt.axis(0,10,150,350)\n",
    "plt.legend(loc='upper right')\n",
    "plt.rcParams['font.sans-serif'] = ['Microsoft YaHei']\n",
    "plt.grid()\n",
    "plt.show()"
   ]
  },
  {
   "cell_type": "code",
   "execution_count": null,
   "id": "dd46184e",
   "metadata": {},
   "outputs": [],
   "source": []
  }
 ],
 "metadata": {
  "kernelspec": {
   "display_name": "Python 3 (ipykernel)",
   "language": "python",
   "name": "python3"
  },
  "language_info": {
   "codemirror_mode": {
    "name": "ipython",
    "version": 3
   },
   "file_extension": ".py",
   "mimetype": "text/x-python",
   "name": "python",
   "nbconvert_exporter": "python",
   "pygments_lexer": "ipython3",
   "version": "3.9.13"
  }
 },
 "nbformat": 4,
 "nbformat_minor": 5
}
